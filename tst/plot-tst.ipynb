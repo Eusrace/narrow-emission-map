{
 "cells": [
  {
   "cell_type": "markdown",
   "id": "9a9c4849",
   "metadata": {},
   "source": [
    "# test imshow"
   ]
  },
  {
   "cell_type": "code",
   "execution_count": 1,
   "id": "c9af0f74",
   "metadata": {},
   "outputs": [],
   "source": [
    "import numpy as np\n",
    "import matplotlib.pyplot as plt"
   ]
  },
  {
   "cell_type": "code",
   "execution_count": 9,
   "id": "be312254",
   "metadata": {},
   "outputs": [
    {
     "data": {
      "text/plain": [
       "<matplotlib.image.AxesImage at 0x7fe11294d370>"
      ]
     },
     "execution_count": 9,
     "metadata": {},
     "output_type": "execute_result"
    },
    {
     "data": {
      "image/png": "[encoded data removed]",
      "text/plain": [
       "<Figure size 432x288 with 1 Axes>"
      ]
     },
     "metadata": {
      "needs_background": "light"
     },
     "output_type": "display_data"
    }
   ],
   "source": [
    "a = np.random.uniform(-np.pi, np.pi, size=100).reshape(10,10)\n",
    "# plt.imshow(a)\n",
    "plt.imshow(a,extent=[-1,1,-1,1])"
   ]
  },
  {
   "cell_type": "code",
   "execution_count": 11,
   "id": "53037106",
   "metadata": {},
   "outputs": [
    {
     "data": {
      "text/plain": [
       "0.21471790073858787"
      ]
     },
     "execution_count": 11,
     "metadata": {},
     "output_type": "execute_result"
    }
   ],
   "source": [
    "import healpy as hp\n",
    "nside = 16384\n",
    "res = hp.nside2resol(nside,arcmin=True)\n",
    "res"
   ]
  },
  {
   "cell_type": "code",
   "execution_count": null,
   "id": "d689cbfd",
   "metadata": {},
   "outputs": [],
   "source": []
  }
 ],
 "metadata": {
  "kernelspec": {
   "display_name": "Python 3 (ipykernel)",
   "language": "python",
   "name": "python3"
  },
  "language_info": {
   "codemirror_mode": {
    "name": "ipython",
    "version": 3
   },
   "file_extension": ".py",
   "mimetype": "text/x-python",
   "name": "python",
   "nbconvert_exporter": "python",
   "pygments_lexer": "ipython3",
   "version": "3.9.7"
  }
 },
 "nbformat": 4,
 "nbformat_minor": 5
}
